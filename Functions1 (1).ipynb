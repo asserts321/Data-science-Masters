{
 "cells": [
  {
   "cell_type": "markdown",
   "id": "6e441d0b-a0d3-41cc-a3c2-6e54356a0855",
   "metadata": {},
   "source": [
    "Q1. Which keyword is used to create a function? Create a function to return a list of odd numbers in the\n",
    "range of 1 to 25."
   ]
  },
  {
   "cell_type": "code",
   "execution_count": 2,
   "id": "d0834659-bd25-4cdf-a5cf-1c1a2d3a2b7d",
   "metadata": {},
   "outputs": [],
   "source": [
    "def funct():\n",
    "    #Function working\n",
    "    pass"
   ]
  },
  {
   "cell_type": "code",
   "execution_count": 3,
   "id": "e72e2ddb-06b0-4be3-997b-1d0974d426b4",
   "metadata": {},
   "outputs": [],
   "source": [
    "def Odd_list(a):\n",
    "    l = []\n",
    "    for i in range(1,a+1):\n",
    "        if i %2 != 0:\n",
    "            l.append(i)\n",
    "    return l"
   ]
  },
  {
   "cell_type": "code",
   "execution_count": 5,
   "id": "29ae995a-73ca-4daf-b728-5dc3778cb35f",
   "metadata": {},
   "outputs": [
    {
     "data": {
      "text/plain": [
       "[1, 3, 5, 7, 9, 11, 13, 15, 17, 19, 21, 23, 25, 27, 29, 31, 33, 35, 37, 39]"
      ]
     },
     "execution_count": 5,
     "metadata": {},
     "output_type": "execute_result"
    }
   ],
   "source": [
    "Odd_list(40)"
   ]
  },
  {
   "cell_type": "markdown",
   "id": "77b78555-36f4-4142-999c-b6a0cc0384ac",
   "metadata": {},
   "source": [
    "Q2. Why *args and **kwargs is used in some functions? Create a function each for *args and **kwargs to\n",
    "demonstrate their use.\n",
    "\n",
    "Ans:- *args are used for taking series of input to a funtion when the length of paramenter is not fixed, *kwargs is used to pass dictionary type input to a function"
   ]
  },
  {
   "cell_type": "code",
   "execution_count": 6,
   "id": "4c816cfe-1373-465f-b3ba-4081c3dff19c",
   "metadata": {},
   "outputs": [],
   "source": [
    "#function with *args\n",
    "def arg_funct(*series):\n",
    "    sum = 0\n",
    "    for i in series:\n",
    "        sum += i\n",
    "    return sum"
   ]
  },
  {
   "cell_type": "code",
   "execution_count": 8,
   "id": "04f220cd-a27a-43a8-934f-ca5d9704c0d3",
   "metadata": {},
   "outputs": [
    {
     "data": {
      "text/plain": [
       "147"
      ]
     },
     "execution_count": 8,
     "metadata": {},
     "output_type": "execute_result"
    }
   ],
   "source": [
    "arg_funct(23,23,45,56)"
   ]
  },
  {
   "cell_type": "code",
   "execution_count": 9,
   "id": "4b3f94b6-e9d7-4419-b36b-03b71ed12ca3",
   "metadata": {},
   "outputs": [
    {
     "data": {
      "text/plain": [
       "28"
      ]
     },
     "execution_count": 9,
     "metadata": {},
     "output_type": "execute_result"
    }
   ],
   "source": [
    "arg_funct(1,2,3,4,5,6,7)"
   ]
  },
  {
   "cell_type": "code",
   "execution_count": 10,
   "id": "58fa9f07-a9fb-4e2b-9c20-8cc3271ebfd3",
   "metadata": {},
   "outputs": [
    {
     "data": {
      "text/plain": [
       "23"
      ]
     },
     "execution_count": 10,
     "metadata": {},
     "output_type": "execute_result"
    }
   ],
   "source": [
    "arg_funct(23)"
   ]
  },
  {
   "cell_type": "code",
   "execution_count": 17,
   "id": "0f012570-899c-43a8-8128-920b46d9b402",
   "metadata": {},
   "outputs": [],
   "source": [
    "#function with *kwargs\n",
    "def kwargs_funct(**kwargs):\n",
    "    for i in kwargs:\n",
    "        print(i,' : ', kwargs[i])"
   ]
  },
  {
   "cell_type": "code",
   "execution_count": 18,
   "id": "485edc2f-9a9f-4b20-9698-caf8983bf2c2",
   "metadata": {},
   "outputs": [
    {
     "name": "stdout",
     "output_type": "stream",
     "text": [
      "a  :  23\n",
      "b  :  34\n",
      "c  :  76\n"
     ]
    }
   ],
   "source": [
    "kwargs_funct(a = 23,b=34,c=76)"
   ]
  },
  {
   "cell_type": "markdown",
   "id": "e63c8af8-c538-436f-8eee-f97af7e054e5",
   "metadata": {},
   "source": [
    "Q3. What is an iterator in python? Name the method used to initialise the iterator object and the method\n",
    "used for iteration. Use these methods to print the first five elements of the given list [2, 4, 6, 8, 10, 12, 14, 16,\n",
    "18, 20].\n",
    "\n",
    "Ans:- An iterator is an object that contains a countable number of values, we can use iter() for creating iterable object and next(iterable object) can be used for iteration."
   ]
  },
  {
   "cell_type": "code",
   "execution_count": 29,
   "id": "ad941f24-4ed2-4346-94b8-dfa653201231",
   "metadata": {},
   "outputs": [],
   "source": [
    "l1 = [2, 4, 6, 8, 10, 12, 14, 16,18, 20]\n",
    "i1 = iter(l1)"
   ]
  },
  {
   "cell_type": "code",
   "execution_count": 31,
   "id": "edfed8de-663b-4c16-aedb-2f29e512ac38",
   "metadata": {},
   "outputs": [
    {
     "data": {
      "text/plain": [
       "2"
      ]
     },
     "execution_count": 31,
     "metadata": {},
     "output_type": "execute_result"
    }
   ],
   "source": [
    "next(i1)"
   ]
  },
  {
   "cell_type": "code",
   "execution_count": 32,
   "id": "58c2225d-0f26-4209-a93a-67f653558038",
   "metadata": {},
   "outputs": [
    {
     "data": {
      "text/plain": [
       "4"
      ]
     },
     "execution_count": 32,
     "metadata": {},
     "output_type": "execute_result"
    }
   ],
   "source": [
    "next(i1)"
   ]
  },
  {
   "cell_type": "code",
   "execution_count": 33,
   "id": "f1c0451f-190c-44d0-bc30-48e1fcf332f2",
   "metadata": {},
   "outputs": [
    {
     "data": {
      "text/plain": [
       "6"
      ]
     },
     "execution_count": 33,
     "metadata": {},
     "output_type": "execute_result"
    }
   ],
   "source": [
    "next(i1)"
   ]
  },
  {
   "cell_type": "code",
   "execution_count": 34,
   "id": "42475108-d657-4eec-8682-8d1fdf9f7e43",
   "metadata": {},
   "outputs": [
    {
     "data": {
      "text/plain": [
       "8"
      ]
     },
     "execution_count": 34,
     "metadata": {},
     "output_type": "execute_result"
    }
   ],
   "source": [
    "next(i1)"
   ]
  },
  {
   "cell_type": "code",
   "execution_count": 35,
   "id": "8d999aac-85a2-4424-a99d-2f85346c5bc9",
   "metadata": {},
   "outputs": [
    {
     "data": {
      "text/plain": [
       "10"
      ]
     },
     "execution_count": 35,
     "metadata": {},
     "output_type": "execute_result"
    }
   ],
   "source": [
    "next(i1)"
   ]
  },
  {
   "cell_type": "code",
   "execution_count": 38,
   "id": "f5f92c0b-bcdf-4544-99b9-f28522fb03c3",
   "metadata": {},
   "outputs": [
    {
     "name": "stdout",
     "output_type": "stream",
     "text": [
      "2\n",
      "4\n",
      "6\n",
      "8\n",
      "10\n"
     ]
    }
   ],
   "source": [
    "# we can use loops also for iteration\n",
    "\n",
    "l1 = [2, 4, 6, 8, 10, 12, 14, 16,18, 20]\n",
    "for i in range(0,5):\n",
    "    print(l1[i])"
   ]
  },
  {
   "cell_type": "markdown",
   "id": "9567663e-c02d-4736-869c-7993df6feed1",
   "metadata": {},
   "source": [
    "Q4. What is a generator function in python? Why yield keyword is used? Give an example of a generator\n",
    "function.\n",
    "\n",
    "Ans: generator function is used to provide streamline data out of a function so that there is no any requirement for capturing memory for the data operation at once, yield is used to get data out of generator.\n"
   ]
  },
  {
   "cell_type": "code",
   "execution_count": 39,
   "id": "30d63fd4-296a-4625-82d7-97d3ee01e970",
   "metadata": {},
   "outputs": [],
   "source": [
    "def gen_func(num):\n",
    "    a = 0\n",
    "    b = 1\n",
    "    for i in range(num):\n",
    "        yield a\n",
    "        a,b = b, a+b\n",
    "    "
   ]
  },
  {
   "cell_type": "code",
   "execution_count": 43,
   "id": "d4558246-c1b4-4167-a805-4675870cbab3",
   "metadata": {},
   "outputs": [
    {
     "data": {
      "text/plain": [
       "[0, 1, 1, 2, 3, 5, 8, 13, 21, 34, 55, 89, 144, 233, 377]"
      ]
     },
     "execution_count": 43,
     "metadata": {},
     "output_type": "execute_result"
    }
   ],
   "source": [
    "list(gen_func(15))"
   ]
  },
  {
   "cell_type": "markdown",
   "id": "6564dbd6-4462-4367-bd34-d642bdc949be",
   "metadata": {},
   "source": [
    "Q5. Create a generator function for prime numbers less than 1000. Use the next() method to print the\n",
    "first 20 prime numbers."
   ]
  },
  {
   "cell_type": "code",
   "execution_count": 96,
   "id": "310a71fd-9a0b-4538-85f6-1ec1660481af",
   "metadata": {},
   "outputs": [],
   "source": [
    "def prime():\n",
    "    prime = True\n",
    "    for i in range(2,1000):\n",
    "        for j in range(2,int(i**0.5)+1):\n",
    "            if i % j == 0:\n",
    "                prime = False\n",
    "                break\n",
    "            else:\n",
    "                prime = True\n",
    "        if prime == True:\n",
    "            yield i\n",
    "            \n",
    "            \n",
    "        \n",
    "\n",
    "            "
   ]
  },
  {
   "cell_type": "code",
   "execution_count": 98,
   "id": "c10ed2b3-ccc3-4841-8227-76392122570c",
   "metadata": {},
   "outputs": [
    {
     "data": {
      "text/plain": [
       "[2,\n",
       " 3,\n",
       " 5,\n",
       " 7,\n",
       " 11,\n",
       " 13,\n",
       " 17,\n",
       " 19,\n",
       " 23,\n",
       " 29,\n",
       " 31,\n",
       " 37,\n",
       " 41,\n",
       " 43,\n",
       " 47,\n",
       " 53,\n",
       " 59,\n",
       " 61,\n",
       " 67,\n",
       " 71,\n",
       " 73]"
      ]
     },
     "execution_count": 98,
     "metadata": {},
     "output_type": "execute_result"
    }
   ],
   "source": [
    "list(prime())[0:21]"
   ]
  },
  {
   "cell_type": "code",
   "execution_count": null,
   "id": "8e942b0f-ad8b-42d2-b00d-1a976b8ba31d",
   "metadata": {},
   "outputs": [],
   "source": []
  },
  {
   "cell_type": "code",
   "execution_count": null,
   "id": "c4995e22-764a-474b-b927-2d6982c551d0",
   "metadata": {},
   "outputs": [],
   "source": []
  }
 ],
 "metadata": {
  "kernelspec": {
   "display_name": "Python 3 (ipykernel)",
   "language": "python",
   "name": "python3"
  },
  "language_info": {
   "codemirror_mode": {
    "name": "ipython",
    "version": 3
   },
   "file_extension": ".py",
   "mimetype": "text/x-python",
   "name": "python",
   "nbconvert_exporter": "python",
   "pygments_lexer": "ipython3",
   "version": "3.10.8"
  }
 },
 "nbformat": 4,
 "nbformat_minor": 5
}
